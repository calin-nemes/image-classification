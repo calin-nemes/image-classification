{
 "cells": [
  {
   "cell_type": "markdown",
   "metadata": {
    "collapsed": false,
    "deletable": true,
    "editable": true
   },
   "source": [
    "# Image Classification\n",
    "In this project, you'll classify images from the [CIFAR-10 dataset](https://www.cs.toronto.edu/~kriz/cifar.html).  The dataset consists of airplanes, dogs, cats, and other objects. You'll preprocess the images, then train a convolutional neural network on all the samples. The images need to be normalized and the labels need to be one-hot encoded.  You'll get to apply what you learned and build a convolutional, max pooling, dropout, and fully connected layers.  At the end, you'll get to see your neural network's predictions on the sample images.\n",
    "## Get the Data\n",
    "Run the following cell to download the [CIFAR-10 dataset for python](https://www.cs.toronto.edu/~kriz/cifar-10-python.tar.gz)."
   ]
  },
  {
   "cell_type": "code",
   "execution_count": 1,
   "metadata": {
    "collapsed": false,
    "deletable": true,
    "editable": true
   },
   "outputs": [
    {
     "name": "stderr",
     "output_type": "stream",
     "text": [
      "CIFAR-10 Dataset: 171MB [00:34, 4.99MB/s]                              \n"
     ]
    },
    {
     "name": "stdout",
     "output_type": "stream",
     "text": [
      "All files found!\n"
     ]
    }
   ],
   "source": [
    "\"\"\"\n",
    "DON'T MODIFY ANYTHING IN THIS CELL THAT IS BELOW THIS LINE\n",
    "\"\"\"\n",
    "from urllib.request import urlretrieve\n",
    "from os.path import isfile, isdir\n",
    "from tqdm import tqdm\n",
    "import problem_unittests as tests\n",
    "import tarfile\n",
    "\n",
    "cifar10_dataset_folder_path = 'cifar-10-batches-py'\n",
    "\n",
    "class DLProgress(tqdm):\n",
    "    last_block = 0\n",
    "\n",
    "    def hook(self, block_num=1, block_size=1, total_size=None):\n",
    "        self.total = total_size\n",
    "        self.update((block_num - self.last_block) * block_size)\n",
    "        self.last_block = block_num\n",
    "\n",
    "if not isfile('cifar-10-python.tar.gz'):\n",
    "    with DLProgress(unit='B', unit_scale=True, miniters=1, desc='CIFAR-10 Dataset') as pbar:\n",
    "        urlretrieve(\n",
    "            'https://www.cs.toronto.edu/~kriz/cifar-10-python.tar.gz',\n",
    "            'cifar-10-python.tar.gz',\n",
    "            pbar.hook)\n",
    "\n",
    "if not isdir(cifar10_dataset_folder_path):\n",
    "    with tarfile.open('cifar-10-python.tar.gz') as tar:\n",
    "        tar.extractall()\n",
    "        tar.close()\n",
    "\n",
    "\n",
    "tests.test_folder_path(cifar10_dataset_folder_path)"
   ]
  },
  {
   "cell_type": "markdown",
   "metadata": {
    "deletable": true,
    "editable": true
   },
   "source": [
    "## Explore the Data\n",
    "The dataset is broken into batches to prevent your machine from running out of memory.  The CIFAR-10 dataset consists of 5 batches, named `data_batch_1`, `data_batch_2`, etc.. Each batch contains the labels and images that are one of the following:\n",
    "* airplane\n",
    "* automobile\n",
    "* bird\n",
    "* cat\n",
    "* deer\n",
    "* dog\n",
    "* frog\n",
    "* horse\n",
    "* ship\n",
    "* truck\n",
    "\n",
    "Understanding a dataset is part of making predictions on the data.  Play around with the code cell below by changing the `batch_id` and `sample_id`. The `batch_id` is the id for a batch (1-5). The `sample_id` is the id for a image and label pair in the batch.\n",
    "\n",
    "Ask yourself \"What are all possible labels?\", \"What is the range of values for the image data?\", \"Are the labels in order or random?\".  Answers to questions like these will help you preprocess the data and end up with better predictions."
   ]
  },
  {
   "cell_type": "code",
   "execution_count": 2,
   "metadata": {
    "collapsed": false,
    "deletable": true,
    "editable": true,
    "scrolled": true
   },
   "outputs": [
    {
     "name": "stdout",
     "output_type": "stream",
     "text": [
      "\n",
      "Stats of batch 2:\n",
      "Samples: 10000\n",
      "Label Counts: {0: 984, 1: 1007, 2: 1010, 3: 995, 4: 1010, 5: 988, 6: 1008, 7: 1026, 8: 987, 9: 985}\n",
      "First 20 Labels: [1, 6, 6, 8, 8, 3, 4, 6, 0, 6, 0, 3, 6, 6, 5, 4, 8, 3, 2, 6]\n",
      "\n",
      "Example of Image 5:\n",
      "Image - Min Value: 3 Max Value: 219\n",
      "Image - Shape: (32, 32, 3)\n",
      "Label - Label Id: 3 Name: cat\n"
     ]
    },
    {
     "data": {
      "image/png": "[encoded data removed]",
      "text/plain": [
       "<matplotlib.figure.Figure at 0x7f7e4efe1d68>"
      ]
     },
     "metadata": {
      "image/png": {
       "height": 250,
       "width": 253
      }
     },
     "output_type": "display_data"
    }
   ],
   "source": [
    "%matplotlib inline\n",
    "%config InlineBackend.figure_format = 'retina'\n",
    "\n",
    "import helper\n",
    "import numpy as np\n",
    "\n",
    "# Explore the dataset\n",
    "batch_id = 2\n",
    "sample_id = 5\n",
    "helper.display_stats(cifar10_dataset_folder_path, batch_id, sample_id)"
   ]
  },
  {
   "cell_type": "markdown",
   "metadata": {
    "deletable": true,
    "editable": true
   },
   "source": [
    "## Implement Preprocess Functions\n",
    "### Normalize\n",
    "In the cell below, implement the `normalize` function to take in image data, `x`, and return it as a normalized Numpy array. The values should be in the range of 0 to 1, inclusive.  The return object should be the same shape as `x`."
   ]
  },
  {
   "cell_type": "code",
   "execution_count": 3,
   "metadata": {
    "collapsed": false,
    "deletable": true,
    "editable": true
   },
   "outputs": [
    {
     "name": "stdout",
     "output_type": "stream",
     "text": [
      "Tests Passed\n"
     ]
    }
   ],
   "source": [
    "def normalize(x):\n",
    "    \"\"\"\n",
    "    Normalize a list of sample image data in the range of 0 to 1\n",
    "    : x: List of image data.  The image shape is (32, 32, 3)\n",
    "    : return: Numpy array of normalize data\n",
    "    \"\"\"\n",
    "    import tensorflow as tf\n",
    "    import numpy as np\n",
    "    \n",
    "    normalized_image = np.array(x / x.max())\n",
    "    return normalized_image\n",
    "\n",
    "\n",
    "\"\"\"\n",
    "DON'T MODIFY ANYTHING IN THIS CELL THAT IS BELOW THIS LINE\n",
    "\"\"\"\n",
    "tests.test_normalize(normalize)"
   ]
  },
  {
   "cell_type": "markdown",
   "metadata": {
    "deletable": true,
    "editable": true
   },
   "source": [
    "### One-hot encode\n",
    "Just like the previous code cell, you'll be implementing a function for preprocessing.  This time, you'll implement the `one_hot_encode` function. The input, `x`, are a list of labels.  Implement the function to return the list of labels as One-Hot encoded Numpy array.  The possible values for labels are 0 to 9. The one-hot encoding function should return the same encoding for each value between each call to `one_hot_encode`.  Make sure to save the map of encodings outside the function.\n",
    "\n",
    "Hint: Don't reinvent the wheel."
   ]
  },
  {
   "cell_type": "code",
   "execution_count": 4,
   "metadata": {
    "collapsed": false,
    "deletable": true,
    "editable": true
   },
   "outputs": [
    {
     "name": "stdout",
     "output_type": "stream",
     "text": [
      "Tests Passed\n"
     ]
    }
   ],
   "source": [
    "def one_hot_encode(x):\n",
    "    \"\"\"\n",
    "    One hot encode a list of sample labels. Return a one-hot encoded vector for each label.\n",
    "    : x: List of sample Labels\n",
    "    : return: Numpy array of one-hot encoded labels\n",
    "    \"\"\"\n",
    "    import numpy as np\n",
    "    from sklearn import preprocessing\n",
    "    \n",
    "    # Create the encoder\n",
    "    lb = preprocessing.LabelBinarizer()\n",
    "    \n",
    "    # Here the encoder finds the classes and assigns one-hot vectors \n",
    "    lb.fit([0, 1, 2, 3, 4, 5, 6, 7, 8, 9])\n",
    "    \n",
    "    # And finally, transform the labels into one-hot encoded vectors\n",
    "    return lb.transform(np.array(x))\n",
    "\n",
    "\n",
    "\"\"\"\n",
    "DON'T MODIFY ANYTHING IN THIS CELL THAT IS BELOW THIS LINE\n",
    "\"\"\"\n",
    "tests.test_one_hot_encode(one_hot_encode)"
   ]
  },
  {
   "cell_type": "markdown",
   "metadata": {
    "deletable": true,
    "editable": true
   },
   "source": [
    "### Randomize Data\n",
    "As you saw from exploring the data above, the order of the samples are randomized.  It doesn't hurt to randomize it again, but you don't need to for this dataset."
   ]
  },
  {
   "cell_type": "markdown",
   "metadata": {
    "deletable": true,
    "editable": true
   },
   "source": [
    "## Preprocess all the data and save it\n",
    "Running the code cell below will preprocess all the CIFAR-10 data and save it to file. The code below also uses 10% of the training data for validation."
   ]
  },
  {
   "cell_type": "code",
   "execution_count": 5,
   "metadata": {
    "collapsed": false,
    "deletable": true,
    "editable": true
   },
   "outputs": [],
   "source": [
    "\"\"\"\n",
    "DON'T MODIFY ANYTHING IN THIS CELL\n",
    "\"\"\"\n",
    "# Preprocess Training, Validation, and Testing Data\n",
    "helper.preprocess_and_save_data(cifar10_dataset_folder_path, normalize, one_hot_encode)"
   ]
  },
  {
   "cell_type": "markdown",
   "metadata": {
    "deletable": true,
    "editable": true
   },
   "source": [
    "# Check Point\n",
    "This is your first checkpoint.  If you ever decide to come back to this notebook or have to restart the notebook, you can start from here.  The preprocessed data has been saved to disk."
   ]
  },
  {
   "cell_type": "code",
   "execution_count": 6,
   "metadata": {
    "collapsed": true,
    "deletable": true,
    "editable": true
   },
   "outputs": [],
   "source": [
    "\"\"\"\n",
    "DON'T MODIFY ANYTHING IN THIS CELL\n",
    "\"\"\"\n",
    "import pickle\n",
    "import problem_unittests as tests\n",
    "import helper\n",
    "\n",
    "# Load the Preprocessed Validation data\n",
    "valid_features, valid_labels = pickle.load(open('preprocess_validation.p', mode='rb'))"
   ]
  },
  {
   "cell_type": "markdown",
   "metadata": {
    "deletable": true,
    "editable": true
   },
   "source": [
    "## Build the network\n",
    "For the neural network, you'll build each layer into a function.  Most of the code you've seen has been outside of functions. To test your code more thoroughly, we require that you put each layer in a function.  This allows us to give you better feedback and test for simple mistakes using our unittests before you submit your project.\n",
    "\n",
    ">**Note:** If you're finding it hard to dedicate enough time for this course each week, we've provided a small shortcut to this part of the project. In the next couple of problems, you'll have the option to use classes from the [TensorFlow Layers](https://www.tensorflow.org/api_docs/python/tf/layers) or [TensorFlow Layers (contrib)](https://www.tensorflow.org/api_guides/python/contrib.layers) packages to build each layer, except the layers you build in the \"Convolutional and Max Pooling Layer\" section.  TF Layers is similar to Keras's and TFLearn's abstraction to layers, so it's easy to pickup.\n",
    "\n",
    ">However, if you would like to get the most out of this course, try to solve all the problems _without_ using anything from the TF Layers packages. You **can** still use classes from other packages that happen to have the same name as ones you find in TF Layers! For example, instead of using the TF Layers version of the `conv2d` class, [tf.layers.conv2d](https://www.tensorflow.org/api_docs/python/tf/layers/conv2d), you would want to use the TF Neural Network version of `conv2d`, [tf.nn.conv2d](https://www.tensorflow.org/api_docs/python/tf/nn/conv2d). \n",
    "\n",
    "Let's begin!\n",
    "\n",
    "### Input\n",
    "The neural network needs to read the image data, one-hot encoded labels, and dropout keep probability. Implement the following functions\n",
    "* Implement `neural_net_image_input`\n",
    " * Return a [TF Placeholder](https://www.tensorflow.org/api_docs/python/tf/placeholder)\n",
    " * Set the shape using `image_shape` with batch size set to `None`.\n",
    " * Name the TensorFlow placeholder \"x\" using the TensorFlow `name` parameter in the [TF Placeholder](https://www.tensorflow.org/api_docs/python/tf/placeholder).\n",
    "* Implement `neural_net_label_input`\n",
    " * Return a [TF Placeholder](https://www.tensorflow.org/api_docs/python/tf/placeholder)\n",
    " * Set the shape using `n_classes` with batch size set to `None`.\n",
    " * Name the TensorFlow placeholder \"y\" using the TensorFlow `name` parameter in the [TF Placeholder](https://www.tensorflow.org/api_docs/python/tf/placeholder).\n",
    "* Implement `neural_net_keep_prob_input`\n",
    " * Return a [TF Placeholder](https://www.tensorflow.org/api_docs/python/tf/placeholder) for dropout keep probability.\n",
    " * Name the TensorFlow placeholder \"keep_prob\" using the TensorFlow `name` parameter in the [TF Placeholder](https://www.tensorflow.org/api_docs/python/tf/placeholder).\n",
    "\n",
    "These names will be used at the end of the project to load your saved model.\n",
    "\n",
    "Note: `None` for shapes in TensorFlow allow for a dynamic size."
   ]
  },
  {
   "cell_type": "code",
   "execution_count": 7,
   "metadata": {
    "collapsed": false,
    "deletable": true,
    "editable": true
   },
   "outputs": [
    {
     "name": "stdout",
     "output_type": "stream",
     "text": [
      "Image Input Tests Passed.\n",
      "Label Input Tests Passed.\n",
      "Keep Prob Tests Passed.\n"
     ]
    }
   ],
   "source": [
    "import tensorflow as tf\n",
    "\n",
    "def neural_net_image_input(image_shape):\n",
    "    \"\"\"\n",
    "    Return a Tensor for a bach of image input\n",
    "    : image_shape: Shape of the images\n",
    "    : return: Tensor for image input.\n",
    "    \"\"\"\n",
    "    \n",
    "    return tf.placeholder(tf.float32, shape=[None, image_shape[0], image_shape[1], image_shape[2]], name='x') \n",
    "\n",
    "\n",
    "def neural_net_label_input(n_classes):\n",
    "    \"\"\"\n",
    "    Return a Tensor for a batch of label input\n",
    "    : n_classes: Number of classes\n",
    "    : return: Tensor for label input.\n",
    "    \"\"\"\n",
    "    \n",
    "    return tf.placeholder(tf.float32, shape=[None, n_classes], name='y') \n",
    "\n",
    "\n",
    "def neural_net_keep_prob_input():\n",
    "    \"\"\"\n",
    "    Return a Tensor for keep probability\n",
    "    : return: Tensor for keep probability.\n",
    "    \"\"\"\n",
    "    return tf.placeholder(tf.float32, name='keep_prob')\n",
    "\n",
    "\n",
    "\"\"\"\n",
    "DON'T MODIFY ANYTHING IN THIS CELL THAT IS BELOW THIS LINE\n",
    "\"\"\"\n",
    "tf.reset_default_graph()\n",
    "tests.test_nn_image_inputs(neural_net_image_input)\n",
    "tests.test_nn_label_inputs(neural_net_label_input)\n",
    "tests.test_nn_keep_prob_inputs(neural_net_keep_prob_input)"
   ]
  },
  {
   "cell_type": "markdown",
   "metadata": {
    "deletable": true,
    "editable": true
   },
   "source": [
    "### Convolution and Max Pooling Layer\n",
    "Convolution layers have a lot of success with images. For this code cell, you should implement the function `conv2d_maxpool` to apply convolution then max pooling:\n",
    "* Create the weight and bias using `conv_ksize`, `conv_num_outputs` and the shape of `x_tensor`.\n",
    "* Apply a convolution to `x_tensor` using weight and `conv_strides`.\n",
    " * We recommend you use same padding, but you're welcome to use any padding.\n",
    "* Add bias\n",
    "* Add a nonlinear activation to the convolution.\n",
    "* Apply Max Pooling using `pool_ksize` and `pool_strides`.\n",
    " * We recommend you use same padding, but you're welcome to use any padding.\n",
    "\n",
    "**Note:** You **can't** use [TensorFlow Layers](https://www.tensorflow.org/api_docs/python/tf/layers) or [TensorFlow Layers (contrib)](https://www.tensorflow.org/api_guides/python/contrib.layers) for **this** layer, but you can still use TensorFlow's [Neural Network](https://www.tensorflow.org/api_docs/python/tf/nn) package. You may still use the shortcut option for all the **other** layers."
   ]
  },
  {
   "cell_type": "code",
   "execution_count": 8,
   "metadata": {
    "collapsed": false,
    "deletable": true,
    "editable": true
   },
   "outputs": [
    {
     "name": "stdout",
     "output_type": "stream",
     "text": [
      "Tests Passed\n"
     ]
    }
   ],
   "source": [
    "def conv2d_maxpool(x_tensor, conv_num_outputs, conv_ksize, conv_strides, pool_ksize, pool_strides):\n",
    "    \"\"\"\n",
    "    Apply convolution then max pooling to x_tensor\n",
    "    :param x_tensor: TensorFlow Tensor\n",
    "    :param conv_num_outputs: Number of outputs for the convolutional layer\n",
    "    :param conv_ksize: kernal size 2-D Tuple for the convolutional layer\n",
    "    :param conv_strides: Stride 2-D Tuple for convolution\n",
    "    :param pool_ksize: kernal size 2-D Tuple for pool\n",
    "    :param pool_strides: Stride 2-D Tuple for pool\n",
    "    : return: A tensor that represents convolution and max pooling of x_tensor\n",
    "    \"\"\"\n",
    "    # weight and bias\n",
    "    weight = tf.Variable(tf.random_normal([*conv_ksize, tf.to_int32(x_tensor.get_shape().as_list()[3]), conv_num_outputs], mean=0.0, stddev=0.1))\n",
    "    #bias = tf.Variable (tf.zeros (conv_num_outputs))\n",
    "    bias = tf.Variable (tf.zeros(conv_num_outputs))\n",
    "    \n",
    "    conv_strides_list = [1, conv_strides[0], conv_strides[1], 1]\n",
    "    \n",
    "    conv_layer = tf.nn.conv2d (tf.to_float(x_tensor), weight, strides = conv_strides_list, padding = 'SAME')\n",
    "    conv_layer = tf.nn.bias_add (conv_layer, bias)\n",
    "    conv_layer = tf.nn.relu (conv_layer)\n",
    "\n",
    "    pool_ksize_list = [1, pool_ksize[0], pool_ksize[1], 1]\n",
    "    pool_strides_list = [1, pool_strides[0], pool_strides[1], 1]\n",
    "    \n",
    "    max_pool_layer = tf.nn.max_pool (conv_layer, pool_ksize_list, pool_strides_list, padding = 'SAME')\n",
    "    \n",
    "    return max_pool_layer \n",
    "\n",
    "\n",
    "\"\"\"\n",
    "DON'T MODIFY ANYTHING IN THIS CELL THAT IS BELOW THIS LINE\n",
    "\"\"\"\n",
    "tests.test_con_pool(conv2d_maxpool)"
   ]
  },
  {
   "cell_type": "markdown",
   "metadata": {
    "deletable": true,
    "editable": true
   },
   "source": [
    "### Flatten Layer\n",
    "Implement the `flatten` function to change the dimension of `x_tensor` from a 4-D tensor to a 2-D tensor.  The output should be the shape (*Batch Size*, *Flattened Image Size*). Shortcut option: you can use classes from the [TensorFlow Layers](https://www.tensorflow.org/api_docs/python/tf/layers) or [TensorFlow Layers (contrib)](https://www.tensorflow.org/api_guides/python/contrib.layers) packages for this layer. For more of a challenge, only use other TensorFlow packages."
   ]
  },
  {
   "cell_type": "code",
   "execution_count": 9,
   "metadata": {
    "collapsed": false,
    "deletable": true,
    "editable": true
   },
   "outputs": [
    {
     "name": "stdout",
     "output_type": "stream",
     "text": [
      "Tests Passed\n"
     ]
    }
   ],
   "source": [
    "def flatten(x_tensor):\n",
    "    \"\"\"\n",
    "    Flatten x_tensor to (Batch Size, Flattened Image Size)\n",
    "    : x_tensor: A tensor of size (Batch Size, ...), where ... are the image dimensions.\n",
    "    : return: A tensor of size (Batch Size, Flattened Image Size).\n",
    "    \"\"\"\n",
    "    flattened_image_size = x_tensor.get_shape().as_list()[1] * x_tensor.get_shape().as_list()[2] * x_tensor.get_shape().as_list()[3]\\\n",
    "    \n",
    "    x_tensor_flat = tf.reshape (x_tensor, [-1, flattened_image_size])\n",
    "    return x_tensor_flat\n",
    "\n",
    "\n",
    "\"\"\"\n",
    "DON'T MODIFY ANYTHING IN THIS CELL THAT IS BELOW THIS LINE\n",
    "\"\"\"\n",
    "tests.test_flatten(flatten)"
   ]
  },
  {
   "cell_type": "markdown",
   "metadata": {
    "deletable": true,
    "editable": true
   },
   "source": [
    "### Fully-Connected Layer\n",
    "Implement the `fully_conn` function to apply a fully connected layer to `x_tensor` with the shape (*Batch Size*, *num_outputs*). Shortcut option: you can use classes from the [TensorFlow Layers](https://www.tensorflow.org/api_docs/python/tf/layers) or [TensorFlow Layers (contrib)](https://www.tensorflow.org/api_guides/python/contrib.layers) packages for this layer. For more of a challenge, only use other TensorFlow packages."
   ]
  },
  {
   "cell_type": "code",
   "execution_count": 10,
   "metadata": {
    "collapsed": false,
    "deletable": true,
    "editable": true
   },
   "outputs": [
    {
     "name": "stdout",
     "output_type": "stream",
     "text": [
      "Tests Passed\n"
     ]
    }
   ],
   "source": [
    "def fully_conn(x_tensor, num_outputs):\n",
    "    \"\"\"\n",
    "    Apply a fully connected layer to x_tensor using weight and bias\n",
    "    : x_tensor: A 2-D tensor where the first dimension is batch size.\n",
    "    : num_outputs: The number of output that the new tensor should be.\n",
    "    : return: A 2-D tensor where the second dimension is num_outputs.\n",
    "    \"\"\"\n",
    "    batch_size = x_tensor.get_shape().as_list()[1]\n",
    "    weight = tf.Variable (tf.random_normal([batch_size, num_outputs], mean=0.0, stddev=0.1))\n",
    "    bias = tf.Variable (tf.zeros(num_outputs))\n",
    "    \n",
    "    fully_conv_layer = tf.add (tf.matmul (x_tensor, weight), bias)\n",
    "    fully_conv_layer = tf.nn.relu (fully_conv_layer)\n",
    "    \n",
    "    return fully_conv_layer\n",
    "\n",
    "\n",
    "\"\"\"\n",
    "DON'T MODIFY ANYTHING IN THIS CELL THAT IS BELOW THIS LINE\n",
    "\"\"\"\n",
    "tests.test_fully_conn(fully_conn)"
   ]
  },
  {
   "cell_type": "markdown",
   "metadata": {
    "deletable": true,
    "editable": true
   },
   "source": [
    "### Output Layer\n",
    "Implement the `output` function to apply a fully connected layer to `x_tensor` with the shape (*Batch Size*, *num_outputs*). Shortcut option: you can use classes from the [TensorFlow Layers](https://www.tensorflow.org/api_docs/python/tf/layers) or [TensorFlow Layers (contrib)](https://www.tensorflow.org/api_guides/python/contrib.layers) packages for this layer. For more of a challenge, only use other TensorFlow packages.\n",
    "\n",
    "**Note:** Activation, softmax, or cross entropy should **not** be applied to this."
   ]
  },
  {
   "cell_type": "code",
   "execution_count": 11,
   "metadata": {
    "collapsed": false,
    "deletable": true,
    "editable": true
   },
   "outputs": [
    {
     "name": "stdout",
     "output_type": "stream",
     "text": [
      "Tests Passed\n"
     ]
    }
   ],
   "source": [
    "def output(x_tensor, num_outputs):\n",
    "    \"\"\"\n",
    "    Apply a output layer to x_tensor using weight and bias\n",
    "    : x_tensor: A 2-D tensor where the first dimension is batch size.\n",
    "    : num_outputs: The number of output that the new tensor should be.\n",
    "    : return: A 2-D tensor where the second dimension is num_outputs.\n",
    "    \"\"\"\n",
    "    batch_size = x_tensor.get_shape().as_list()[1]\n",
    "    weight = tf.Variable (tf.random_normal([batch_size, num_outputs], mean=0.0, stddev=0.1))\n",
    "    bias = tf.Variable (tf.zeros(num_outputs))\n",
    "    \n",
    "    output_layer = tf.add (tf.matmul (x_tensor, weight), bias)\n",
    "    return output_layer\n",
    "\n",
    "\n",
    "\"\"\"\n",
    "DON'T MODIFY ANYTHING IN THIS CELL THAT IS BELOW THIS LINE\n",
    "\"\"\"\n",
    "tests.test_output(output)"
   ]
  },
  {
   "cell_type": "markdown",
   "metadata": {
    "deletable": true,
    "editable": true
   },
   "source": [
    "### Create Convolutional Model\n",
    "Implement the function `conv_net` to create a convolutional neural network model. The function takes in a batch of images, `x`, and outputs logits.  Use the layers you created above to create this model:\n",
    "\n",
    "* Apply 1, 2, or 3 Convolution and Max Pool layers\n",
    "* Apply a Flatten Layer\n",
    "* Apply 1, 2, or 3 Fully Connected Layers\n",
    "* Apply an Output Layer\n",
    "* Return the output\n",
    "* Apply [TensorFlow's Dropout](https://www.tensorflow.org/api_docs/python/tf/nn/dropout) to one or more layers in the model using `keep_prob`. "
   ]
  },
  {
   "cell_type": "code",
   "execution_count": 21,
   "metadata": {
    "collapsed": false,
    "deletable": true,
    "editable": true
   },
   "outputs": [
    {
     "name": "stdout",
     "output_type": "stream",
     "text": [
      "Neural Network Built!\n"
     ]
    }
   ],
   "source": [
    "def conv_net(x, keep_prob):\n",
    "    \"\"\"\n",
    "    Create a convolutional neural network model\n",
    "    : x: Placeholder tensor that holds image data.\n",
    "    : keep_prob: Placeholder tensor that hold dropout keep probability.\n",
    "    : return: Tensor that represents logits\n",
    "    \"\"\"\n",
    "    x_tensor = x\n",
    "    \n",
    "    conv_num_outputs1 = 32\n",
    "    conv_num_outputs2 = 64\n",
    "    conv_num_outputs3 = 128\n",
    "\n",
    "    conv_ksize = (4,4)\n",
    "    conv_strides = (1,1)\n",
    "    pool_ksize = (2,2)\n",
    "    pool_strides = (1,1)\n",
    "    num_outputs = 500\n",
    "    \n",
    "    # TODO: Apply 1, 2, or 3 Convolution and Max Pool layers\n",
    "    #    Play around with different number of outputs, kernel size and stride\n",
    "    # Function Definition from Above:\n",
    "    \n",
    "    conv = conv2d_maxpool (x_tensor, conv_num_outputs1, conv_ksize, conv_strides, pool_ksize, pool_strides)\n",
    "    #conv = conv2d_maxpool (conv, conv_num_outputs2, conv_ksize, conv_strides, pool_ksize, pool_strides)\n",
    "    #conv = tf.nn.dropout (conv, tf.to_float(keep_prob))\n",
    "    conv = conv2d_maxpool (conv, conv_num_outputs3, conv_ksize, conv_strides, pool_ksize, pool_strides)\n",
    "    \n",
    "\n",
    "    # TODO: Apply a Flatten Layer\n",
    "    # Function Definition from Above:\n",
    "    flat = flatten(conv)\n",
    "    \n",
    "\n",
    "    # TODO: Apply 1, 2, or 3 Fully Connected Layers\n",
    "    #    Play around with different number of outputs\n",
    "    # Function Definition from Above:\n",
    "    fully = fully_conn(flat, 300)\n",
    "    #fully = fully_conn(fully, 200)\n",
    "    fully = tf.nn.dropout (fully, tf.to_float(keep_prob))\n",
    "    #fully = fully_conn(fully, 300)\n",
    "    \n",
    "    \n",
    "    # TODO: Apply an Output Layer\n",
    "    #    Set this to the number of classes\n",
    "    # Function Definition from Above:\n",
    "    output_data = output(fully, 10)\n",
    "    \n",
    "    \n",
    "    # TODO: return output\n",
    "    return output_data\n",
    "\n",
    "\n",
    "\"\"\"\n",
    "DON'T MODIFY ANYTHING IN THIS CELL THAT IS BELOW THIS LINE\n",
    "\"\"\"\n",
    "\n",
    "##############################\n",
    "## Build the Neural Network ##\n",
    "##############################\n",
    "\n",
    "# Remove previous weights, bias, inputs, etc..\n",
    "tf.reset_default_graph()\n",
    "\n",
    "# Inputs\n",
    "x = neural_net_image_input((32, 32, 3))\n",
    "y = neural_net_label_input(10)\n",
    "keep_prob = neural_net_keep_prob_input()\n",
    "\n",
    "# Model\n",
    "logits = conv_net(x, keep_prob)\n",
    "\n",
    "# Name logits Tensor, so that is can be loaded from disk after training\n",
    "logits = tf.identity(logits, name='logits')\n",
    "\n",
    "# Loss and Optimizer\n",
    "cost = tf.reduce_mean(tf.nn.softmax_cross_entropy_with_logits(logits=logits, labels=y))\n",
    "optimizer = tf.train.AdamOptimizer().minimize(cost)\n",
    "\n",
    "# Accuracy\n",
    "correct_pred = tf.equal(tf.argmax(logits, 1), tf.argmax(y, 1))\n",
    "accuracy = tf.reduce_mean(tf.cast(correct_pred, tf.float32), name='accuracy')\n",
    "\n",
    "tests.test_conv_net(conv_net)"
   ]
  },
  {
   "cell_type": "markdown",
   "metadata": {
    "deletable": true,
    "editable": true
   },
   "source": [
    "## Train the Neural Network\n",
    "### Single Optimization\n",
    "Implement the function `train_neural_network` to do a single optimization.  The optimization should use `optimizer` to optimize in `session` with a `feed_dict` of the following:\n",
    "* `x` for image input\n",
    "* `y` for labels\n",
    "* `keep_prob` for keep probability for dropout\n",
    "\n",
    "This function will be called for each batch, so `tf.global_variables_initializer()` has already been called.\n",
    "\n",
    "Note: Nothing needs to be returned. This function is only optimizing the neural network."
   ]
  },
  {
   "cell_type": "code",
   "execution_count": 13,
   "metadata": {
    "collapsed": false,
    "deletable": true,
    "editable": true,
    "scrolled": true
   },
   "outputs": [
    {
     "name": "stdout",
     "output_type": "stream",
     "text": [
      "Tests Passed\n"
     ]
    }
   ],
   "source": [
    "def train_neural_network(session, optimizer, keep_probability, feature_batch, label_batch):\n",
    "    \"\"\"\n",
    "    Optimize the session on a batch of images and labels\n",
    "    : session: Current TensorFlow session\n",
    "    : optimizer: TensorFlow optimizer function\n",
    "    : keep_probability: keep probability\n",
    "    : feature_batch: Batch of Numpy image data\n",
    "    : label_batch: Batch of Numpy label data\n",
    "    \"\"\"\n",
    "    session.run (optimizer, feed_dict = {x: feature_batch, y: label_batch, keep_prob: keep_probability})\n",
    "    pass\n",
    "\n",
    "\n",
    "\"\"\"\n",
    "DON'T MODIFY ANYTHING IN THIS CELL THAT IS BELOW THIS LINE\n",
    "\"\"\"\n",
    "tests.test_train_nn(train_neural_network)"
   ]
  },
  {
   "cell_type": "markdown",
   "metadata": {
    "deletable": true,
    "editable": true
   },
   "source": [
    "### Show Stats\n",
    "Implement the function `print_stats` to print loss and validation accuracy.  Use the global variables `valid_features` and `valid_labels` to calculate validation accuracy.  Use a keep probability of `1.0` to calculate the loss and validation accuracy."
   ]
  },
  {
   "cell_type": "code",
   "execution_count": 14,
   "metadata": {
    "collapsed": false,
    "deletable": true,
    "editable": true
   },
   "outputs": [],
   "source": [
    "def print_stats(session, feature_batch, label_batch, cost, accuracy):\n",
    "    \"\"\"\n",
    "    Print information about loss and validation accuracy\n",
    "    : session: Current TensorFlow session\n",
    "    : feature_batch: Batch of Numpy image data\n",
    "    : label_batch: Batch of Numpy label data\n",
    "    : cost: TensorFlow cost function\n",
    "    : accuracy: TensorFlow accuracy function\n",
    "    \"\"\"\n",
    "    current_cost = session.run (cost, feed_dict = {x: feature_batch, y: label_batch, keep_prob: 1.0})\n",
    "    train_accuracy = session.run (accuracy, feed_dict = {x: feature_batch, y: label_batch, keep_prob: 1.0})\n",
    "    valid_accuracy = session.run (accuracy, feed_dict = {x: valid_features, y: valid_labels, keep_prob: 1.0})\n",
    "    print('Cost: {:<8.3} Train Accuracy: {:<5.3}  Valid Accuracy: {:<5.3}'.format (current_cost, train_accuracy, valid_accuracy))\n",
    "    pass"
   ]
  },
  {
   "cell_type": "markdown",
   "metadata": {
    "deletable": true,
    "editable": true
   },
   "source": [
    "### Hyperparameters\n",
    "Tune the following parameters:\n",
    "* Set `epochs` to the number of iterations until the network stops learning or start overfitting\n",
    "* Set `batch_size` to the highest number that your machine has memory for.  Most people set them to common sizes of memory:\n",
    " * 64\n",
    " * 128\n",
    " * 256\n",
    " * ...\n",
    "* Set `keep_probability` to the probability of keeping a node using dropout"
   ]
  },
  {
   "cell_type": "code",
   "execution_count": 19,
   "metadata": {
    "collapsed": true,
    "deletable": true,
    "editable": true
   },
   "outputs": [],
   "source": [
    "# TODO: Tune Parameters\n",
    "epochs = 50\n",
    "batch_size = 64\n",
    "keep_probability = 0.25"
   ]
  },
  {
   "cell_type": "markdown",
   "metadata": {
    "deletable": true,
    "editable": true
   },
   "source": [
    "### Train on a Single CIFAR-10 Batch\n",
    "Instead of training the neural network on all the CIFAR-10 batches of data, let's use a single batch. This should save time while you iterate on the model to get a better accuracy.  Once the final validation accuracy is 50% or greater, run the model on all the data in the next section."
   ]
  },
  {
   "cell_type": "code",
   "execution_count": 22,
   "metadata": {
    "collapsed": false,
    "deletable": true,
    "editable": true,
    "scrolled": true
   },
   "outputs": [
    {
     "name": "stdout",
     "output_type": "stream",
     "text": [
      "Checking the Training on a Single Batch...\n",
      "Epoch  1, CIFAR-10 Batch 1:  Cost: 2.3      Train Accuracy: 0.15   Valid Accuracy: 0.103\n",
      "Epoch  2, CIFAR-10 Batch 1:  Cost: 2.32     Train Accuracy: 0.125  Valid Accuracy: 0.165\n",
      "Epoch  3, CIFAR-10 Batch 1:  Cost: 2.21     Train Accuracy: 0.2    Valid Accuracy: 0.224\n",
      "Epoch  4, CIFAR-10 Batch 1:  Cost: 2.1      Train Accuracy: 0.175  Valid Accuracy: 0.295\n",
      "Epoch  5, CIFAR-10 Batch 1:  Cost: 2.02     Train Accuracy: 0.25   Valid Accuracy: 0.298\n",
      "Epoch  6, CIFAR-10 Batch 1:  Cost: 2.01     Train Accuracy: 0.2    Valid Accuracy: 0.316\n",
      "Epoch  7, CIFAR-10 Batch 1:  Cost: 1.97     Train Accuracy: 0.275  Valid Accuracy: 0.349\n",
      "Epoch  8, CIFAR-10 Batch 1:  Cost: 1.85     Train Accuracy: 0.375  Valid Accuracy: 0.376\n",
      "Epoch  9, CIFAR-10 Batch 1:  Cost: 1.71     Train Accuracy: 0.375  Valid Accuracy: 0.404\n",
      "Epoch 10, CIFAR-10 Batch 1:  Cost: 1.66     Train Accuracy: 0.45   Valid Accuracy: 0.432\n",
      "Epoch 11, CIFAR-10 Batch 1:  Cost: 1.52     Train Accuracy: 0.5    Valid Accuracy: 0.472\n",
      "Epoch 12, CIFAR-10 Batch 1:  Cost: 1.38     Train Accuracy: 0.475  Valid Accuracy: 0.466\n",
      "Epoch 13, CIFAR-10 Batch 1:  Cost: 1.24     Train Accuracy: 0.55   Valid Accuracy: 0.486\n",
      "Epoch 14, CIFAR-10 Batch 1:  Cost: 1.19     Train Accuracy: 0.625  Valid Accuracy: 0.495\n",
      "Epoch 15, CIFAR-10 Batch 1:  Cost: 1.05     Train Accuracy: 0.725  Valid Accuracy: 0.515\n",
      "Epoch 16, CIFAR-10 Batch 1:  Cost: 0.966    Train Accuracy: 0.7    Valid Accuracy: 0.523\n",
      "Epoch 17, CIFAR-10 Batch 1:  Cost: 0.94     Train Accuracy: 0.75   Valid Accuracy: 0.522\n",
      "Epoch 18, CIFAR-10 Batch 1:  Cost: 0.913    Train Accuracy: 0.725  Valid Accuracy: 0.535\n",
      "Epoch 19, CIFAR-10 Batch 1:  Cost: 0.853    Train Accuracy: 0.75   Valid Accuracy: 0.533\n",
      "Epoch 20, CIFAR-10 Batch 1:  Cost: 0.724    Train Accuracy: 0.75   Valid Accuracy: 0.547\n",
      "Epoch 21, CIFAR-10 Batch 1:  Cost: 0.674    Train Accuracy: 0.8    Valid Accuracy: 0.561\n",
      "Epoch 22, CIFAR-10 Batch 1:  Cost: 0.64     Train Accuracy: 0.725  Valid Accuracy: 0.566\n",
      "Epoch 23, CIFAR-10 Batch 1:  Cost: 0.509    Train Accuracy: 0.8    Valid Accuracy: 0.576\n",
      "Epoch 24, CIFAR-10 Batch 1:  Cost: 0.465    Train Accuracy: 0.875  Valid Accuracy: 0.582\n",
      "Epoch 25, CIFAR-10 Batch 1:  Cost: 0.429    Train Accuracy: 0.8    Valid Accuracy: 0.576\n",
      "Epoch 26, CIFAR-10 Batch 1:  Cost: 0.353    Train Accuracy: 0.875  Valid Accuracy: 0.577\n",
      "Epoch 27, CIFAR-10 Batch 1:  Cost: 0.34     Train Accuracy: 0.9    Valid Accuracy: 0.577\n",
      "Epoch 28, CIFAR-10 Batch 1:  Cost: 0.316    Train Accuracy: 0.9    Valid Accuracy: 0.581\n",
      "Epoch 29, CIFAR-10 Batch 1:  Cost: 0.272    Train Accuracy: 0.975  Valid Accuracy: 0.588\n",
      "Epoch 30, CIFAR-10 Batch 1:  Cost: 0.224    Train Accuracy: 0.975  Valid Accuracy: 0.593\n",
      "Epoch 31, CIFAR-10 Batch 1:  Cost: 0.21     Train Accuracy: 0.925  Valid Accuracy: 0.593\n",
      "Epoch 32, CIFAR-10 Batch 1:  Cost: 0.177    Train Accuracy: 1.0    Valid Accuracy: 0.594\n",
      "Epoch 33, CIFAR-10 Batch 1:  Cost: 0.188    Train Accuracy: 0.975  Valid Accuracy: 0.598\n",
      "Epoch 34, CIFAR-10 Batch 1:  Cost: 0.184    Train Accuracy: 1.0    Valid Accuracy: 0.591\n",
      "Epoch 35, CIFAR-10 Batch 1:  Cost: 0.123    Train Accuracy: 1.0    Valid Accuracy: 0.587\n",
      "Epoch 36, CIFAR-10 Batch 1:  Cost: 0.137    Train Accuracy: 1.0    Valid Accuracy: 0.59 \n",
      "Epoch 37, CIFAR-10 Batch 1:  Cost: 0.163    Train Accuracy: 0.975  Valid Accuracy: 0.594\n",
      "Epoch 38, CIFAR-10 Batch 1:  Cost: 0.104    Train Accuracy: 1.0    Valid Accuracy: 0.594\n",
      "Epoch 39, CIFAR-10 Batch 1:  Cost: 0.117    Train Accuracy: 1.0    Valid Accuracy: 0.592\n",
      "Epoch 40, CIFAR-10 Batch 1:  Cost: 0.117    Train Accuracy: 1.0    Valid Accuracy: 0.591\n",
      "Epoch 41, CIFAR-10 Batch 1:  Cost: 0.0963   Train Accuracy: 0.975  Valid Accuracy: 0.597\n",
      "Epoch 42, CIFAR-10 Batch 1:  Cost: 0.111    Train Accuracy: 1.0    Valid Accuracy: 0.585\n",
      "Epoch 43, CIFAR-10 Batch 1:  Cost: 0.0856   Train Accuracy: 1.0    Valid Accuracy: 0.604\n",
      "Epoch 44, CIFAR-10 Batch 1:  Cost: 0.0745   Train Accuracy: 1.0    Valid Accuracy: 0.602\n",
      "Epoch 45, CIFAR-10 Batch 1:  Cost: 0.0746   Train Accuracy: 1.0    Valid Accuracy: 0.59 \n",
      "Epoch 46, CIFAR-10 Batch 1:  Cost: 0.051    Train Accuracy: 1.0    Valid Accuracy: 0.596\n",
      "Epoch 47, CIFAR-10 Batch 1:  Cost: 0.0654   Train Accuracy: 1.0    Valid Accuracy: 0.585\n",
      "Epoch 48, CIFAR-10 Batch 1:  Cost: 0.0349   Train Accuracy: 1.0    Valid Accuracy: 0.601\n",
      "Epoch 49, CIFAR-10 Batch 1:  Cost: 0.0498   Train Accuracy: 1.0    Valid Accuracy: 0.589\n",
      "Epoch 50, CIFAR-10 Batch 1:  Cost: 0.0392   Train Accuracy: 1.0    Valid Accuracy: 0.596\n"
     ]
    }
   ],
   "source": [
    "\"\"\"\n",
    "DON'T MODIFY ANYTHING IN THIS CELL\n",
    "\"\"\"\n",
    "print('Checking the Training on a Single Batch...')\n",
    "with tf.Session() as sess:\n",
    "    # Initializing the variables\n",
    "    sess.run(tf.global_variables_initializer())\n",
    "    \n",
    "    # Training cycle\n",
    "    for epoch in range(epochs):\n",
    "        batch_i = 1\n",
    "        for batch_features, batch_labels in helper.load_preprocess_training_batch(batch_i, batch_size):\n",
    "            train_neural_network(sess, optimizer, keep_probability, batch_features, batch_labels)\n",
    "        print('Epoch {:>2}, CIFAR-10 Batch {}:  '.format(epoch + 1, batch_i), end='')\n",
    "        print_stats(sess, batch_features, batch_labels, cost, accuracy)"
   ]
  },
  {
   "cell_type": "markdown",
   "metadata": {
    "deletable": true,
    "editable": true
   },
   "source": [
    "### Fully Train the Model\n",
    "Now that you got a good accuracy with a single CIFAR-10 batch, try it with all five batches."
   ]
  },
  {
   "cell_type": "code",
   "execution_count": 23,
   "metadata": {
    "collapsed": false,
    "deletable": true,
    "editable": true
   },
   "outputs": [
    {
     "name": "stdout",
     "output_type": "stream",
     "text": [
      "Training...\n",
      "Epoch  1, CIFAR-10 Batch 1:  Cost: 2.28     Train Accuracy: 0.1    Valid Accuracy: 0.189\n",
      "Epoch  1, CIFAR-10 Batch 2:  Cost: 2.28     Train Accuracy: 0.15   Valid Accuracy: 0.0954\n",
      "Epoch  1, CIFAR-10 Batch 3:  Cost: 2.21     Train Accuracy: 0.15   Valid Accuracy: 0.213\n",
      "Epoch  1, CIFAR-10 Batch 4:  Cost: 2.18     Train Accuracy: 0.175  Valid Accuracy: 0.216\n",
      "Epoch  1, CIFAR-10 Batch 5:  Cost: 2.15     Train Accuracy: 0.225  Valid Accuracy: 0.24 \n",
      "Epoch  2, CIFAR-10 Batch 1:  Cost: 2.09     Train Accuracy: 0.225  Valid Accuracy: 0.287\n",
      "Epoch  2, CIFAR-10 Batch 2:  Cost: 1.9      Train Accuracy: 0.45   Valid Accuracy: 0.312\n",
      "Epoch  2, CIFAR-10 Batch 3:  Cost: 1.71     Train Accuracy: 0.55   Valid Accuracy: 0.283\n",
      "Epoch  2, CIFAR-10 Batch 4:  Cost: 1.83     Train Accuracy: 0.4    Valid Accuracy: 0.331\n",
      "Epoch  2, CIFAR-10 Batch 5:  Cost: 1.8      Train Accuracy: 0.45   Valid Accuracy: 0.371\n",
      "Epoch  3, CIFAR-10 Batch 1:  Cost: 1.9      Train Accuracy: 0.3    Valid Accuracy: 0.404\n",
      "Epoch  3, CIFAR-10 Batch 2:  Cost: 1.79     Train Accuracy: 0.475  Valid Accuracy: 0.409\n",
      "Epoch  3, CIFAR-10 Batch 3:  Cost: 1.49     Train Accuracy: 0.5    Valid Accuracy: 0.438\n",
      "Epoch  3, CIFAR-10 Batch 4:  Cost: 1.58     Train Accuracy: 0.475  Valid Accuracy: 0.458\n",
      "Epoch  3, CIFAR-10 Batch 5:  Cost: 1.57     Train Accuracy: 0.425  Valid Accuracy: 0.476\n",
      "Epoch  4, CIFAR-10 Batch 1:  Cost: 1.54     Train Accuracy: 0.6    Valid Accuracy: 0.502\n",
      "Epoch  4, CIFAR-10 Batch 2:  Cost: 1.43     Train Accuracy: 0.475  Valid Accuracy: 0.518\n",
      "Epoch  4, CIFAR-10 Batch 3:  Cost: 1.2      Train Accuracy: 0.575  Valid Accuracy: 0.516\n",
      "Epoch  4, CIFAR-10 Batch 4:  Cost: 1.33     Train Accuracy: 0.45   Valid Accuracy: 0.529\n",
      "Epoch  4, CIFAR-10 Batch 5:  Cost: 1.26     Train Accuracy: 0.6    Valid Accuracy: 0.551\n",
      "Epoch  5, CIFAR-10 Batch 1:  Cost: 1.29     Train Accuracy: 0.55   Valid Accuracy: 0.553\n",
      "Epoch  5, CIFAR-10 Batch 2:  Cost: 1.26     Train Accuracy: 0.55   Valid Accuracy: 0.563\n",
      "Epoch  5, CIFAR-10 Batch 3:  Cost: 1.1      Train Accuracy: 0.625  Valid Accuracy: 0.574\n",
      "Epoch  5, CIFAR-10 Batch 4:  Cost: 1.08     Train Accuracy: 0.65   Valid Accuracy: 0.582\n",
      "Epoch  5, CIFAR-10 Batch 5:  Cost: 1.11     Train Accuracy: 0.65   Valid Accuracy: 0.6  \n",
      "Epoch  6, CIFAR-10 Batch 1:  Cost: 1.16     Train Accuracy: 0.575  Valid Accuracy: 0.573\n",
      "Epoch  6, CIFAR-10 Batch 2:  Cost: 1.19     Train Accuracy: 0.65   Valid Accuracy: 0.595\n",
      "Epoch  6, CIFAR-10 Batch 3:  Cost: 0.885    Train Accuracy: 0.725  Valid Accuracy: 0.604\n",
      "Epoch  6, CIFAR-10 Batch 4:  Cost: 1.03     Train Accuracy: 0.675  Valid Accuracy: 0.598\n",
      "Epoch  6, CIFAR-10 Batch 5:  Cost: 0.857    Train Accuracy: 0.7    Valid Accuracy: 0.614\n",
      "Epoch  7, CIFAR-10 Batch 1:  Cost: 1.13     Train Accuracy: 0.6    Valid Accuracy: 0.62 \n",
      "Epoch  7, CIFAR-10 Batch 2:  Cost: 1.01     Train Accuracy: 0.65   Valid Accuracy: 0.625\n",
      "Epoch  7, CIFAR-10 Batch 3:  Cost: 0.81     Train Accuracy: 0.775  Valid Accuracy: 0.628\n",
      "Epoch  7, CIFAR-10 Batch 4:  Cost: 0.825    Train Accuracy: 0.775  Valid Accuracy: 0.631\n",
      "Epoch  7, CIFAR-10 Batch 5:  Cost: 0.742    Train Accuracy: 0.85   Valid Accuracy: 0.637\n",
      "Epoch  8, CIFAR-10 Batch 1:  Cost: 0.919    Train Accuracy: 0.675  Valid Accuracy: 0.636\n",
      "Epoch  8, CIFAR-10 Batch 2:  Cost: 0.878    Train Accuracy: 0.7    Valid Accuracy: 0.634\n",
      "Epoch  8, CIFAR-10 Batch 3:  Cost: 0.699    Train Accuracy: 0.8    Valid Accuracy: 0.643\n",
      "Epoch  8, CIFAR-10 Batch 4:  Cost: 0.711    Train Accuracy: 0.8    Valid Accuracy: 0.65 \n",
      "Epoch  8, CIFAR-10 Batch 5:  Cost: 0.66     Train Accuracy: 0.825  Valid Accuracy: 0.657\n",
      "Epoch  9, CIFAR-10 Batch 1:  Cost: 0.784    Train Accuracy: 0.725  Valid Accuracy: 0.65 \n",
      "Epoch  9, CIFAR-10 Batch 2:  Cost: 0.675    Train Accuracy: 0.8    Valid Accuracy: 0.675\n",
      "Epoch  9, CIFAR-10 Batch 3:  Cost: 0.647    Train Accuracy: 0.775  Valid Accuracy: 0.643\n",
      "Epoch  9, CIFAR-10 Batch 4:  Cost: 0.607    Train Accuracy: 0.775  Valid Accuracy: 0.662\n",
      "Epoch  9, CIFAR-10 Batch 5:  Cost: 0.645    Train Accuracy: 0.85   Valid Accuracy: 0.66 \n",
      "Epoch 10, CIFAR-10 Batch 1:  Cost: 0.715    Train Accuracy: 0.775  Valid Accuracy: 0.656\n",
      "Epoch 10, CIFAR-10 Batch 2:  Cost: 0.535    Train Accuracy: 0.875  Valid Accuracy: 0.666\n",
      "Epoch 10, CIFAR-10 Batch 3:  Cost: 0.458    Train Accuracy: 0.925  Valid Accuracy: 0.662\n",
      "Epoch 10, CIFAR-10 Batch 4:  Cost: 0.517    Train Accuracy: 0.85   Valid Accuracy: 0.671\n",
      "Epoch 10, CIFAR-10 Batch 5:  Cost: 0.509    Train Accuracy: 0.85   Valid Accuracy: 0.673\n",
      "Epoch 11, CIFAR-10 Batch 1:  Cost: 0.61     Train Accuracy: 0.8    Valid Accuracy: 0.675\n",
      "Epoch 11, CIFAR-10 Batch 2:  Cost: 0.457    Train Accuracy: 0.9    Valid Accuracy: 0.673\n",
      "Epoch 11, CIFAR-10 Batch 3:  Cost: 0.39     Train Accuracy: 0.9    Valid Accuracy: 0.664\n",
      "Epoch 11, CIFAR-10 Batch 4:  Cost: 0.496    Train Accuracy: 0.8    Valid Accuracy: 0.659\n",
      "Epoch 11, CIFAR-10 Batch 5:  Cost: 0.388    Train Accuracy: 0.875  Valid Accuracy: 0.669\n",
      "Epoch 12, CIFAR-10 Batch 1:  Cost: 0.547    Train Accuracy: 0.85   Valid Accuracy: 0.661\n",
      "Epoch 12, CIFAR-10 Batch 2:  Cost: 0.434    Train Accuracy: 0.875  Valid Accuracy: 0.687\n",
      "Epoch 12, CIFAR-10 Batch 3:  Cost: 0.31     Train Accuracy: 0.9    Valid Accuracy: 0.694\n",
      "Epoch 12, CIFAR-10 Batch 4:  Cost: 0.391    Train Accuracy: 0.875  Valid Accuracy: 0.68 \n",
      "Epoch 12, CIFAR-10 Batch 5:  Cost: 0.35     Train Accuracy: 0.95   Valid Accuracy: 0.652\n",
      "Epoch 13, CIFAR-10 Batch 1:  Cost: 0.435    Train Accuracy: 0.8    Valid Accuracy: 0.682\n",
      "Epoch 13, CIFAR-10 Batch 2:  Cost: 0.366    Train Accuracy: 0.925  Valid Accuracy: 0.687\n",
      "Epoch 13, CIFAR-10 Batch 3:  Cost: 0.282    Train Accuracy: 0.9    Valid Accuracy: 0.687\n",
      "Epoch 13, CIFAR-10 Batch 4:  Cost: 0.291    Train Accuracy: 0.925  Valid Accuracy: 0.683\n",
      "Epoch 13, CIFAR-10 Batch 5:  Cost: 0.248    Train Accuracy: 0.95   Valid Accuracy: 0.68 \n",
      "Epoch 14, CIFAR-10 Batch 1:  Cost: 0.502    Train Accuracy: 0.85   Valid Accuracy: 0.666\n",
      "Epoch 14, CIFAR-10 Batch 2:  Cost: 0.286    Train Accuracy: 0.925  Valid Accuracy: 0.68 \n",
      "Epoch 14, CIFAR-10 Batch 3:  Cost: 0.259    Train Accuracy: 0.95   Valid Accuracy: 0.686\n",
      "Epoch 14, CIFAR-10 Batch 4:  Cost: 0.253    Train Accuracy: 0.95   Valid Accuracy: 0.687\n",
      "Epoch 14, CIFAR-10 Batch 5:  Cost: 0.207    Train Accuracy: 0.975  Valid Accuracy: 0.692\n",
      "Epoch 15, CIFAR-10 Batch 1:  Cost: 0.359    Train Accuracy: 0.875  Valid Accuracy: 0.689\n",
      "Epoch 15, CIFAR-10 Batch 2:  Cost: 0.303    Train Accuracy: 0.925  Valid Accuracy: 0.687\n",
      "Epoch 15, CIFAR-10 Batch 3:  Cost: 0.229    Train Accuracy: 0.925  Valid Accuracy: 0.689\n",
      "Epoch 15, CIFAR-10 Batch 4:  Cost: 0.22     Train Accuracy: 0.95   Valid Accuracy: 0.685\n",
      "Epoch 15, CIFAR-10 Batch 5:  Cost: 0.199    Train Accuracy: 1.0    Valid Accuracy: 0.687\n",
      "Epoch 16, CIFAR-10 Batch 1:  Cost: 0.265    Train Accuracy: 0.9    Valid Accuracy: 0.694\n",
      "Epoch 16, CIFAR-10 Batch 2:  Cost: 0.217    Train Accuracy: 0.925  Valid Accuracy: 0.693\n",
      "Epoch 16, CIFAR-10 Batch 3:  Cost: 0.235    Train Accuracy: 0.975  Valid Accuracy: 0.682\n",
      "Epoch 16, CIFAR-10 Batch 4:  Cost: 0.183    Train Accuracy: 1.0    Valid Accuracy: 0.685\n",
      "Epoch 16, CIFAR-10 Batch 5:  Cost: 0.151    Train Accuracy: 0.975  Valid Accuracy: 0.696\n",
      "Epoch 17, CIFAR-10 Batch 1:  Cost: 0.308    Train Accuracy: 0.925  Valid Accuracy: 0.697\n",
      "Epoch 17, CIFAR-10 Batch 2:  Cost: 0.226    Train Accuracy: 0.875  Valid Accuracy: 0.687\n",
      "Epoch 17, CIFAR-10 Batch 3:  Cost: 0.17     Train Accuracy: 0.95   Valid Accuracy: 0.7  \n",
      "Epoch 17, CIFAR-10 Batch 4:  Cost: 0.157    Train Accuracy: 0.975  Valid Accuracy: 0.696\n",
      "Epoch 17, CIFAR-10 Batch 5:  Cost: 0.133    Train Accuracy: 0.975  Valid Accuracy: 0.694\n",
      "Epoch 18, CIFAR-10 Batch 1:  Cost: 0.229    Train Accuracy: 0.95   Valid Accuracy: 0.7  \n",
      "Epoch 18, CIFAR-10 Batch 2:  Cost: 0.159    Train Accuracy: 0.95   Valid Accuracy: 0.687\n",
      "Epoch 18, CIFAR-10 Batch 3:  Cost: 0.178    Train Accuracy: 0.975  Valid Accuracy: 0.697\n",
      "Epoch 18, CIFAR-10 Batch 4:  Cost: 0.138    Train Accuracy: 0.95   Valid Accuracy: 0.691\n",
      "Epoch 18, CIFAR-10 Batch 5:  Cost: 0.12     Train Accuracy: 0.975  Valid Accuracy: 0.697\n",
      "Epoch 19, CIFAR-10 Batch 1:  Cost: 0.211    Train Accuracy: 0.95   Valid Accuracy: 0.7  \n",
      "Epoch 19, CIFAR-10 Batch 2:  Cost: 0.11     Train Accuracy: 1.0    Valid Accuracy: 0.692\n",
      "Epoch 19, CIFAR-10 Batch 3:  Cost: 0.156    Train Accuracy: 0.975  Valid Accuracy: 0.693\n",
      "Epoch 19, CIFAR-10 Batch 4:  Cost: 0.134    Train Accuracy: 0.975  Valid Accuracy: 0.698\n",
      "Epoch 19, CIFAR-10 Batch 5:  Cost: 0.1      Train Accuracy: 1.0    Valid Accuracy: 0.695\n",
      "Epoch 20, CIFAR-10 Batch 1:  Cost: 0.155    Train Accuracy: 0.975  Valid Accuracy: 0.704\n",
      "Epoch 20, CIFAR-10 Batch 2:  Cost: 0.0813   Train Accuracy: 1.0    Valid Accuracy: 0.691\n",
      "Epoch 20, CIFAR-10 Batch 3:  Cost: 0.174    Train Accuracy: 0.95   Valid Accuracy: 0.69 \n",
      "Epoch 20, CIFAR-10 Batch 4:  Cost: 0.118    Train Accuracy: 0.975  Valid Accuracy: 0.699\n",
      "Epoch 20, CIFAR-10 Batch 5:  Cost: 0.0943   Train Accuracy: 0.975  Valid Accuracy: 0.706\n",
      "Epoch 21, CIFAR-10 Batch 1:  Cost: 0.13     Train Accuracy: 0.975  Valid Accuracy: 0.701\n",
      "Epoch 21, CIFAR-10 Batch 2:  Cost: 0.0906   Train Accuracy: 0.975  Valid Accuracy: 0.699\n",
      "Epoch 21, CIFAR-10 Batch 3:  Cost: 0.129    Train Accuracy: 0.975  Valid Accuracy: 0.695\n",
      "Epoch 21, CIFAR-10 Batch 4:  Cost: 0.0717   Train Accuracy: 1.0    Valid Accuracy: 0.699\n",
      "Epoch 21, CIFAR-10 Batch 5:  Cost: 0.0789   Train Accuracy: 0.975  Valid Accuracy: 0.699\n",
      "Epoch 22, CIFAR-10 Batch 1:  Cost: 0.116    Train Accuracy: 0.975  Valid Accuracy: 0.7  \n",
      "Epoch 22, CIFAR-10 Batch 2:  Cost: 0.0615   Train Accuracy: 1.0    Valid Accuracy: 0.697\n",
      "Epoch 22, CIFAR-10 Batch 3:  Cost: 0.102    Train Accuracy: 0.95   Valid Accuracy: 0.695\n",
      "Epoch 22, CIFAR-10 Batch 4:  Cost: 0.0702   Train Accuracy: 1.0    Valid Accuracy: 0.695\n",
      "Epoch 22, CIFAR-10 Batch 5:  Cost: 0.0728   Train Accuracy: 0.975  Valid Accuracy: 0.696\n",
      "Epoch 23, CIFAR-10 Batch 1:  Cost: 0.101    Train Accuracy: 0.975  Valid Accuracy: 0.703\n",
      "Epoch 23, CIFAR-10 Batch 2:  Cost: 0.054    Train Accuracy: 0.975  Valid Accuracy: 0.699\n",
      "Epoch 23, CIFAR-10 Batch 3:  Cost: 0.107    Train Accuracy: 0.95   Valid Accuracy: 0.693\n",
      "Epoch 23, CIFAR-10 Batch 4:  Cost: 0.0645   Train Accuracy: 0.975  Valid Accuracy: 0.704\n",
      "Epoch 23, CIFAR-10 Batch 5:  Cost: 0.0616   Train Accuracy: 0.975  Valid Accuracy: 0.7  \n",
      "Epoch 24, CIFAR-10 Batch 1:  Cost: 0.104    Train Accuracy: 0.95   Valid Accuracy: 0.702\n",
      "Epoch 24, CIFAR-10 Batch 2:  Cost: 0.0668   Train Accuracy: 1.0    Valid Accuracy: 0.693\n",
      "Epoch 24, CIFAR-10 Batch 3:  Cost: 0.101    Train Accuracy: 0.975  Valid Accuracy: 0.686\n",
      "Epoch 24, CIFAR-10 Batch 4:  Cost: 0.0734   Train Accuracy: 0.975  Valid Accuracy: 0.69 \n",
      "Epoch 24, CIFAR-10 Batch 5:  Cost: 0.0494   Train Accuracy: 1.0    Valid Accuracy: 0.697\n",
      "Epoch 25, CIFAR-10 Batch 1:  Cost: 0.0996   Train Accuracy: 0.975  Valid Accuracy: 0.705\n",
      "Epoch 25, CIFAR-10 Batch 2:  Cost: 0.0921   Train Accuracy: 1.0    Valid Accuracy: 0.705\n",
      "Epoch 25, CIFAR-10 Batch 3:  Cost: 0.0602   Train Accuracy: 0.975  Valid Accuracy: 0.701\n",
      "Epoch 25, CIFAR-10 Batch 4:  Cost: 0.0642   Train Accuracy: 1.0    Valid Accuracy: 0.701\n",
      "Epoch 25, CIFAR-10 Batch 5:  Cost: 0.0473   Train Accuracy: 1.0    Valid Accuracy: 0.702\n",
      "Epoch 26, CIFAR-10 Batch 1:  Cost: 0.0576   Train Accuracy: 1.0    Valid Accuracy: 0.708\n",
      "Epoch 26, CIFAR-10 Batch 2:  Cost: 0.0401   Train Accuracy: 1.0    Valid Accuracy: 0.681\n",
      "Epoch 26, CIFAR-10 Batch 3:  Cost: 0.0209   Train Accuracy: 1.0    Valid Accuracy: 0.698\n",
      "Epoch 26, CIFAR-10 Batch 4:  Cost: 0.041    Train Accuracy: 1.0    Valid Accuracy: 0.708\n",
      "Epoch 26, CIFAR-10 Batch 5:  Cost: 0.0214   Train Accuracy: 1.0    Valid Accuracy: 0.705\n",
      "Epoch 27, CIFAR-10 Batch 1:  Cost: 0.0566   Train Accuracy: 1.0    Valid Accuracy: 0.705\n",
      "Epoch 27, CIFAR-10 Batch 2:  Cost: 0.0199   Train Accuracy: 1.0    Valid Accuracy: 0.711\n",
      "Epoch 27, CIFAR-10 Batch 3:  Cost: 0.0274   Train Accuracy: 1.0    Valid Accuracy: 0.7  \n",
      "Epoch 27, CIFAR-10 Batch 4:  Cost: 0.0368   Train Accuracy: 1.0    Valid Accuracy: 0.705\n",
      "Epoch 27, CIFAR-10 Batch 5:  Cost: 0.0157   Train Accuracy: 1.0    Valid Accuracy: 0.712\n",
      "Epoch 28, CIFAR-10 Batch 1:  Cost: 0.0783   Train Accuracy: 1.0    Valid Accuracy: 0.711\n",
      "Epoch 28, CIFAR-10 Batch 2:  Cost: 0.0329   Train Accuracy: 1.0    Valid Accuracy: 0.695\n",
      "Epoch 28, CIFAR-10 Batch 3:  Cost: 0.0239   Train Accuracy: 1.0    Valid Accuracy: 0.705\n",
      "Epoch 28, CIFAR-10 Batch 4:  Cost: 0.0326   Train Accuracy: 1.0    Valid Accuracy: 0.705\n",
      "Epoch 28, CIFAR-10 Batch 5:  Cost: 0.0243   Train Accuracy: 1.0    Valid Accuracy: 0.687\n",
      "Epoch 29, CIFAR-10 Batch 1:  Cost: 0.0691   Train Accuracy: 0.975  Valid Accuracy: 0.698\n",
      "Epoch 29, CIFAR-10 Batch 2:  Cost: 0.0423   Train Accuracy: 1.0    Valid Accuracy: 0.711\n",
      "Epoch 29, CIFAR-10 Batch 3:  Cost: 0.0161   Train Accuracy: 1.0    Valid Accuracy: 0.699\n",
      "Epoch 29, CIFAR-10 Batch 4:  Cost: 0.0643   Train Accuracy: 0.975  Valid Accuracy: 0.685\n",
      "Epoch 29, CIFAR-10 Batch 5:  Cost: 0.0209   Train Accuracy: 1.0    Valid Accuracy: 0.706\n",
      "Epoch 30, CIFAR-10 Batch 1:  Cost: 0.0547   Train Accuracy: 1.0    Valid Accuracy: 0.699\n",
      "Epoch 30, CIFAR-10 Batch 2:  Cost: 0.0147   Train Accuracy: 1.0    Valid Accuracy: 0.703\n",
      "Epoch 30, CIFAR-10 Batch 3:  Cost: 0.0153   Train Accuracy: 1.0    Valid Accuracy: 0.711\n",
      "Epoch 30, CIFAR-10 Batch 4:  Cost: 0.0513   Train Accuracy: 0.975  Valid Accuracy: 0.694\n",
      "Epoch 30, CIFAR-10 Batch 5:  Cost: 0.0149   Train Accuracy: 1.0    Valid Accuracy: 0.686\n",
      "Epoch 31, CIFAR-10 Batch 1:  Cost: 0.0412   Train Accuracy: 1.0    Valid Accuracy: 0.706\n",
      "Epoch 31, CIFAR-10 Batch 2:  Cost: 0.0181   Train Accuracy: 1.0    Valid Accuracy: 0.696\n",
      "Epoch 31, CIFAR-10 Batch 3:  Cost: 0.00957  Train Accuracy: 1.0    Valid Accuracy: 0.698\n",
      "Epoch 31, CIFAR-10 Batch 4:  Cost: 0.0401   Train Accuracy: 1.0    Valid Accuracy: 0.692\n",
      "Epoch 31, CIFAR-10 Batch 5:  Cost: 0.00822  Train Accuracy: 1.0    Valid Accuracy: 0.698\n",
      "Epoch 32, CIFAR-10 Batch 1:  Cost: 0.0265   Train Accuracy: 1.0    Valid Accuracy: 0.719\n",
      "Epoch 32, CIFAR-10 Batch 2:  Cost: 0.0254   Train Accuracy: 1.0    Valid Accuracy: 0.705\n",
      "Epoch 32, CIFAR-10 Batch 3:  Cost: 0.0173   Train Accuracy: 1.0    Valid Accuracy: 0.716\n",
      "Epoch 32, CIFAR-10 Batch 4:  Cost: 0.0377   Train Accuracy: 1.0    Valid Accuracy: 0.693\n",
      "Epoch 32, CIFAR-10 Batch 5:  Cost: 0.00651  Train Accuracy: 1.0    Valid Accuracy: 0.7  \n",
      "Epoch 33, CIFAR-10 Batch 1:  Cost: 0.034    Train Accuracy: 1.0    Valid Accuracy: 0.714\n",
      "Epoch 33, CIFAR-10 Batch 2:  Cost: 0.0142   Train Accuracy: 1.0    Valid Accuracy: 0.713\n",
      "Epoch 33, CIFAR-10 Batch 3:  Cost: 0.01     Train Accuracy: 1.0    Valid Accuracy: 0.704\n",
      "Epoch 33, CIFAR-10 Batch 4:  Cost: 0.0241   Train Accuracy: 1.0    Valid Accuracy: 0.703\n",
      "Epoch 33, CIFAR-10 Batch 5:  Cost: 0.0101   Train Accuracy: 1.0    Valid Accuracy: 0.704\n",
      "Epoch 34, CIFAR-10 Batch 1:  Cost: 0.0415   Train Accuracy: 1.0    Valid Accuracy: 0.704\n",
      "Epoch 34, CIFAR-10 Batch 2:  Cost: 0.0169   Train Accuracy: 1.0    Valid Accuracy: 0.706\n",
      "Epoch 34, CIFAR-10 Batch 3:  Cost: 0.0116   Train Accuracy: 1.0    Valid Accuracy: 0.703\n",
      "Epoch 34, CIFAR-10 Batch 4:  Cost: 0.0239   Train Accuracy: 1.0    Valid Accuracy: 0.687\n",
      "Epoch 34, CIFAR-10 Batch 5:  Cost: 0.0118   Train Accuracy: 1.0    Valid Accuracy: 0.693\n",
      "Epoch 35, CIFAR-10 Batch 1:  Cost: 0.0253   Train Accuracy: 1.0    Valid Accuracy: 0.707\n",
      "Epoch 35, CIFAR-10 Batch 2:  Cost: 0.00355  Train Accuracy: 1.0    Valid Accuracy: 0.708\n",
      "Epoch 35, CIFAR-10 Batch 3:  Cost: 0.0189   Train Accuracy: 1.0    Valid Accuracy: 0.709\n",
      "Epoch 35, CIFAR-10 Batch 4:  Cost: 0.0269   Train Accuracy: 1.0    Valid Accuracy: 0.688\n",
      "Epoch 35, CIFAR-10 Batch 5:  Cost: 0.00951  Train Accuracy: 1.0    Valid Accuracy: 0.706\n",
      "Epoch 36, CIFAR-10 Batch 1:  Cost: 0.0305   Train Accuracy: 1.0    Valid Accuracy: 0.709\n",
      "Epoch 36, CIFAR-10 Batch 2:  Cost: 0.0168   Train Accuracy: 1.0    Valid Accuracy: 0.708\n",
      "Epoch 36, CIFAR-10 Batch 3:  Cost: 0.018    Train Accuracy: 1.0    Valid Accuracy: 0.706\n",
      "Epoch 36, CIFAR-10 Batch 4:  Cost: 0.0149   Train Accuracy: 1.0    Valid Accuracy: 0.705\n",
      "Epoch 36, CIFAR-10 Batch 5:  Cost: 0.00765  Train Accuracy: 1.0    Valid Accuracy: 0.71 \n",
      "Epoch 37, CIFAR-10 Batch 1:  Cost: 0.0423   Train Accuracy: 0.975  Valid Accuracy: 0.711\n",
      "Epoch 37, CIFAR-10 Batch 2:  Cost: 0.0165   Train Accuracy: 1.0    Valid Accuracy: 0.704\n",
      "Epoch 37, CIFAR-10 Batch 3:  Cost: 0.0129   Train Accuracy: 1.0    Valid Accuracy: 0.709\n",
      "Epoch 37, CIFAR-10 Batch 4:  Cost: 0.0195   Train Accuracy: 1.0    Valid Accuracy: 0.707\n",
      "Epoch 37, CIFAR-10 Batch 5:  Cost: 0.0172   Train Accuracy: 1.0    Valid Accuracy: 0.693\n",
      "Epoch 38, CIFAR-10 Batch 1:  Cost: 0.0196   Train Accuracy: 1.0    Valid Accuracy: 0.698\n",
      "Epoch 38, CIFAR-10 Batch 2:  Cost: 0.0174   Train Accuracy: 1.0    Valid Accuracy: 0.709\n",
      "Epoch 38, CIFAR-10 Batch 3:  Cost: 0.00476  Train Accuracy: 1.0    Valid Accuracy: 0.7  \n",
      "Epoch 38, CIFAR-10 Batch 4:  Cost: 0.0162   Train Accuracy: 1.0    Valid Accuracy: 0.685\n",
      "Epoch 38, CIFAR-10 Batch 5:  Cost: 0.0151   Train Accuracy: 1.0    Valid Accuracy: 0.693\n",
      "Epoch 39, CIFAR-10 Batch 1:  Cost: 0.0316   Train Accuracy: 1.0    Valid Accuracy: 0.691\n",
      "Epoch 39, CIFAR-10 Batch 2:  Cost: 0.0185   Train Accuracy: 1.0    Valid Accuracy: 0.698\n",
      "Epoch 39, CIFAR-10 Batch 3:  Cost: 0.00531  Train Accuracy: 1.0    Valid Accuracy: 0.707\n",
      "Epoch 39, CIFAR-10 Batch 4:  Cost: 0.0172   Train Accuracy: 1.0    Valid Accuracy: 0.697\n",
      "Epoch 39, CIFAR-10 Batch 5:  Cost: 0.00706  Train Accuracy: 1.0    Valid Accuracy: 0.709\n",
      "Epoch 40, CIFAR-10 Batch 1:  Cost: 0.0265   Train Accuracy: 1.0    Valid Accuracy: 0.71 \n",
      "Epoch 40, CIFAR-10 Batch 2:  Cost: 0.0181   Train Accuracy: 1.0    Valid Accuracy: 0.706\n",
      "Epoch 40, CIFAR-10 Batch 3:  Cost: 0.00577  Train Accuracy: 1.0    Valid Accuracy: 0.703\n",
      "Epoch 40, CIFAR-10 Batch 4:  Cost: 0.00994  Train Accuracy: 1.0    Valid Accuracy: 0.704\n",
      "Epoch 40, CIFAR-10 Batch 5:  Cost: 0.00863  Train Accuracy: 1.0    Valid Accuracy: 0.703\n",
      "Epoch 41, CIFAR-10 Batch 1:  Cost: 0.016    Train Accuracy: 1.0    Valid Accuracy: 0.705\n",
      "Epoch 41, CIFAR-10 Batch 2:  Cost: 0.00512  Train Accuracy: 1.0    Valid Accuracy: 0.702\n",
      "Epoch 41, CIFAR-10 Batch 3:  Cost: 0.00475  Train Accuracy: 1.0    Valid Accuracy: 0.704\n",
      "Epoch 41, CIFAR-10 Batch 4:  Cost: 0.00689  Train Accuracy: 1.0    Valid Accuracy: 0.704\n",
      "Epoch 41, CIFAR-10 Batch 5:  Cost: 0.0043   Train Accuracy: 1.0    Valid Accuracy: 0.704\n",
      "Epoch 42, CIFAR-10 Batch 1:  Cost: 0.0148   Train Accuracy: 1.0    Valid Accuracy: 0.704\n",
      "Epoch 42, CIFAR-10 Batch 2:  Cost: 0.0154   Train Accuracy: 1.0    Valid Accuracy: 0.696\n",
      "Epoch 42, CIFAR-10 Batch 3:  Cost: 0.00232  Train Accuracy: 1.0    Valid Accuracy: 0.709\n",
      "Epoch 42, CIFAR-10 Batch 4:  Cost: 0.00788  Train Accuracy: 1.0    Valid Accuracy: 0.7  \n",
      "Epoch 42, CIFAR-10 Batch 5:  Cost: 0.00947  Train Accuracy: 1.0    Valid Accuracy: 0.702\n",
      "Epoch 43, CIFAR-10 Batch 1:  Cost: 0.00792  Train Accuracy: 1.0    Valid Accuracy: 0.71 \n",
      "Epoch 43, CIFAR-10 Batch 2:  Cost: 0.0281   Train Accuracy: 0.975  Valid Accuracy: 0.708\n",
      "Epoch 43, CIFAR-10 Batch 3:  Cost: 0.00215  Train Accuracy: 1.0    Valid Accuracy: 0.701\n",
      "Epoch 43, CIFAR-10 Batch 4:  Cost: 0.0136   Train Accuracy: 1.0    Valid Accuracy: 0.701\n",
      "Epoch 43, CIFAR-10 Batch 5:  Cost: 0.0122   Train Accuracy: 1.0    Valid Accuracy: 0.708\n",
      "Epoch 44, CIFAR-10 Batch 1:  Cost: 0.0211   Train Accuracy: 1.0    Valid Accuracy: 0.706\n",
      "Epoch 44, CIFAR-10 Batch 2:  Cost: 0.0165   Train Accuracy: 1.0    Valid Accuracy: 0.705\n",
      "Epoch 44, CIFAR-10 Batch 3:  Cost: 0.00266  Train Accuracy: 1.0    Valid Accuracy: 0.696\n",
      "Epoch 44, CIFAR-10 Batch 4:  Cost: 0.00788  Train Accuracy: 1.0    Valid Accuracy: 0.702\n",
      "Epoch 44, CIFAR-10 Batch 5:  Cost: 0.0146   Train Accuracy: 1.0    Valid Accuracy: 0.694\n",
      "Epoch 45, CIFAR-10 Batch 1:  Cost: 0.0346   Train Accuracy: 1.0    Valid Accuracy: 0.706\n",
      "Epoch 45, CIFAR-10 Batch 2:  Cost: 0.0135   Train Accuracy: 1.0    Valid Accuracy: 0.706\n",
      "Epoch 45, CIFAR-10 Batch 3:  Cost: 0.00143  Train Accuracy: 1.0    Valid Accuracy: 0.699\n",
      "Epoch 45, CIFAR-10 Batch 4:  Cost: 0.00881  Train Accuracy: 1.0    Valid Accuracy: 0.701\n",
      "Epoch 45, CIFAR-10 Batch 5:  Cost: 0.00986  Train Accuracy: 1.0    Valid Accuracy: 0.704\n",
      "Epoch 46, CIFAR-10 Batch 1:  Cost: 0.00459  Train Accuracy: 1.0    Valid Accuracy: 0.706\n",
      "Epoch 46, CIFAR-10 Batch 2:  Cost: 0.00371  Train Accuracy: 1.0    Valid Accuracy: 0.71 \n",
      "Epoch 46, CIFAR-10 Batch 3:  Cost: 0.0028   Train Accuracy: 1.0    Valid Accuracy: 0.705\n",
      "Epoch 46, CIFAR-10 Batch 4:  Cost: 0.0101   Train Accuracy: 1.0    Valid Accuracy: 0.703\n",
      "Epoch 46, CIFAR-10 Batch 5:  Cost: 0.00591  Train Accuracy: 1.0    Valid Accuracy: 0.712\n",
      "Epoch 47, CIFAR-10 Batch 1:  Cost: 0.0148   Train Accuracy: 1.0    Valid Accuracy: 0.698\n",
      "Epoch 47, CIFAR-10 Batch 2:  Cost: 0.00285  Train Accuracy: 1.0    Valid Accuracy: 0.694\n",
      "Epoch 47, CIFAR-10 Batch 3:  Cost: 0.00102  Train Accuracy: 1.0    Valid Accuracy: 0.705\n",
      "Epoch 47, CIFAR-10 Batch 4:  Cost: 0.00496  Train Accuracy: 1.0    Valid Accuracy: 0.693\n",
      "Epoch 47, CIFAR-10 Batch 5:  Cost: 0.00392  Train Accuracy: 1.0    Valid Accuracy: 0.702\n",
      "Epoch 48, CIFAR-10 Batch 1:  Cost: 0.0207   Train Accuracy: 1.0    Valid Accuracy: 0.694\n",
      "Epoch 48, CIFAR-10 Batch 2:  Cost: 0.00485  Train Accuracy: 1.0    Valid Accuracy: 0.712\n",
      "Epoch 48, CIFAR-10 Batch 3:  Cost: 0.00342  Train Accuracy: 1.0    Valid Accuracy: 0.702\n",
      "Epoch 48, CIFAR-10 Batch 4:  Cost: 0.019    Train Accuracy: 1.0    Valid Accuracy: 0.696\n",
      "Epoch 48, CIFAR-10 Batch 5:  Cost: 0.00387  Train Accuracy: 1.0    Valid Accuracy: 0.69 \n",
      "Epoch 49, CIFAR-10 Batch 1:  Cost: 0.0184   Train Accuracy: 1.0    Valid Accuracy: 0.699\n",
      "Epoch 49, CIFAR-10 Batch 2:  Cost: 0.0141   Train Accuracy: 1.0    Valid Accuracy: 0.692\n",
      "Epoch 49, CIFAR-10 Batch 3:  Cost: 0.00148  Train Accuracy: 1.0    Valid Accuracy: 0.71 \n",
      "Epoch 49, CIFAR-10 Batch 4:  Cost: 0.00672  Train Accuracy: 1.0    Valid Accuracy: 0.693\n",
      "Epoch 49, CIFAR-10 Batch 5:  Cost: 0.0073   Train Accuracy: 1.0    Valid Accuracy: 0.702\n",
      "Epoch 50, CIFAR-10 Batch 1:  Cost: 0.00406  Train Accuracy: 1.0    Valid Accuracy: 0.698\n",
      "Epoch 50, CIFAR-10 Batch 2:  Cost: 0.00535  Train Accuracy: 1.0    Valid Accuracy: 0.702\n",
      "Epoch 50, CIFAR-10 Batch 3:  Cost: 0.00259  Train Accuracy: 1.0    Valid Accuracy: 0.704\n",
      "Epoch 50, CIFAR-10 Batch 4:  Cost: 0.00861  Train Accuracy: 1.0    Valid Accuracy: 0.697\n",
      "Epoch 50, CIFAR-10 Batch 5:  Cost: 0.00651  Train Accuracy: 1.0    Valid Accuracy: 0.699\n"
     ]
    }
   ],
   "source": [
    "\"\"\"\n",
    "DON'T MODIFY ANYTHING IN THIS CELL\n",
    "\"\"\"\n",
    "save_model_path = './image_classification'\n",
    "\n",
    "print('Training...')\n",
    "with tf.Session() as sess:\n",
    "    # Initializing the variables\n",
    "    sess.run(tf.global_variables_initializer())\n",
    "    \n",
    "    # Training cycle\n",
    "    for epoch in range(epochs):\n",
    "        # Loop over all batches\n",
    "        n_batches = 5\n",
    "        for batch_i in range(1, n_batches + 1):\n",
    "            for batch_features, batch_labels in helper.load_preprocess_training_batch(batch_i, batch_size):\n",
    "                train_neural_network(sess, optimizer, keep_probability, batch_features, batch_labels)\n",
    "            print('Epoch {:>2}, CIFAR-10 Batch {}:  '.format(epoch + 1, batch_i), end='')\n",
    "            print_stats(sess, batch_features, batch_labels, cost, accuracy)\n",
    "            \n",
    "    # Save Model\n",
    "    saver = tf.train.Saver()\n",
    "    save_path = saver.save(sess, save_model_path)"
   ]
  },
  {
   "cell_type": "markdown",
   "metadata": {
    "deletable": true,
    "editable": true
   },
   "source": [
    "# Checkpoint\n",
    "The model has been saved to disk.\n",
    "## Test Model\n",
    "Test your model against the test dataset.  This will be your final accuracy. You should have an accuracy greater than 50%. If you don't, keep tweaking the model architecture and parameters."
   ]
  },
  {
   "cell_type": "code",
   "execution_count": 24,
   "metadata": {
    "collapsed": false,
    "deletable": true,
    "editable": true
   },
   "outputs": [
    {
     "name": "stdout",
     "output_type": "stream",
     "text": [
      "Testing Accuracy: 0.6981488853503185\n",
      "\n"
     ]
    },
    {
     "data": {
      "image/png": "[encoded data removed]",
      "text/plain": [
       "<matplotlib.figure.Figure at 0x7f7eacc7f7f0>"
      ]
     },
     "metadata": {
      "image/png": {
       "height": 319,
       "width": 355
      }
     },
     "output_type": "display_data"
    }
   ],
   "source": [
    "\"\"\"\n",
    "DON'T MODIFY ANYTHING IN THIS CELL\n",
    "\"\"\"\n",
    "%matplotlib inline\n",
    "%config InlineBackend.figure_format = 'retina'\n",
    "\n",
    "import tensorflow as tf\n",
    "import pickle\n",
    "import helper\n",
    "import random\n",
    "\n",
    "# Set batch size if not already set\n",
    "try:\n",
    "    if batch_size:\n",
    "        pass\n",
    "except NameError:\n",
    "    batch_size = 64\n",
    "\n",
    "save_model_path = './image_classification'\n",
    "n_samples = 4\n",
    "top_n_predictions = 3\n",
    "\n",
    "def test_model():\n",
    "    \"\"\"\n",
    "    Test the saved model against the test dataset\n",
    "    \"\"\"\n",
    "\n",
    "    test_features, test_labels = pickle.load(open('preprocess_training.p', mode='rb'))\n",
    "    loaded_graph = tf.Graph()\n",
    "\n",
    "    with tf.Session(graph=loaded_graph) as sess:\n",
    "        # Load model\n",
    "        loader = tf.train.import_meta_graph(save_model_path + '.meta')\n",
    "        loader.restore(sess, save_model_path)\n",
    "\n",
    "        # Get Tensors from loaded model\n",
    "        loaded_x = loaded_graph.get_tensor_by_name('x:0')\n",
    "        loaded_y = loaded_graph.get_tensor_by_name('y:0')\n",
    "        loaded_keep_prob = loaded_graph.get_tensor_by_name('keep_prob:0')\n",
    "        loaded_logits = loaded_graph.get_tensor_by_name('logits:0')\n",
    "        loaded_acc = loaded_graph.get_tensor_by_name('accuracy:0')\n",
    "        \n",
    "        # Get accuracy in batches for memory limitations\n",
    "        test_batch_acc_total = 0\n",
    "        test_batch_count = 0\n",
    "        \n",
    "        for train_feature_batch, train_label_batch in helper.batch_features_labels(test_features, test_labels, batch_size):\n",
    "            test_batch_acc_total += sess.run(\n",
    "                loaded_acc,\n",
    "                feed_dict={loaded_x: train_feature_batch, loaded_y: train_label_batch, loaded_keep_prob: 1.0})\n",
    "            test_batch_count += 1\n",
    "\n",
    "        print('Testing Accuracy: {}\\n'.format(test_batch_acc_total/test_batch_count))\n",
    "\n",
    "        # Print Random Samples\n",
    "        random_test_features, random_test_labels = tuple(zip(*random.sample(list(zip(test_features, test_labels)), n_samples)))\n",
    "        random_test_predictions = sess.run(\n",
    "            tf.nn.top_k(tf.nn.softmax(loaded_logits), top_n_predictions),\n",
    "            feed_dict={loaded_x: random_test_features, loaded_y: random_test_labels, loaded_keep_prob: 1.0})\n",
    "        helper.display_image_predictions(random_test_features, random_test_labels, random_test_predictions)\n",
    "\n",
    "\n",
    "test_model()"
   ]
  },
  {
   "cell_type": "markdown",
   "metadata": {
    "deletable": true,
    "editable": true
   },
   "source": [
    "## Why 50-70% Accuracy?\n",
    "You might be wondering why you can't get an accuracy any higher. First things first, 50% isn't bad for a simple CNN.  Pure guessing would get you 10% accuracy. However, you might notice people are getting scores [well above 70%](http://rodrigob.github.io/are_we_there_yet/build/classification_datasets_results.html#43494641522d3130).  That's because we haven't taught you all there is to know about neural networks. We still need to cover a few more techniques.\n",
    "## Submitting This Project\n",
    "When submitting this project, make sure to run all the cells before saving the notebook.  Save the notebook file as \"dlnd_image_classification.ipynb\" and save it as a HTML file under \"File\" -> \"Download as\".  Include the \"helper.py\" and \"problem_unittests.py\" files in your submission."
   ]
  }
 ],
 "metadata": {
  "kernelspec": {
   "display_name": "Python 3",
   "language": "python",
   "name": "python3"
  },
  "language_info": {
   "codemirror_mode": {
    "name": "ipython",
    "version": 3
   },
   "file_extension": ".py",
   "mimetype": "text/x-python",
   "name": "python",
   "nbconvert_exporter": "python",
   "pygments_lexer": "ipython3",
   "version": "3.5.3"
  }
 },
 "nbformat": 4,
 "nbformat_minor": 0
}
